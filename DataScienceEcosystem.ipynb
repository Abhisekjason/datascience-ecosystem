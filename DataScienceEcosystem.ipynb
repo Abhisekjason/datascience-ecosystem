{
 "cells": [
  {
   "cell_type": "markdown",
   "id": "2438a989-08f5-49b2-8e3b-04b3cbc9719c",
   "metadata": {},
   "source": [
    "Title-DatascienceEcosystem\n",
    "Introduction-A data ecosystem refers to a combination of enterprise infrastructure and applications that is utilized to aggregate and analyze information. It enables organizations to better understand their customers and craft superior marketing, pricing and operations strategies.\n",
    "\n",
    "Ordered list-\n",
    "unsorted_list = [2,4,5,32,6,255,5,42]\n",
    "unsorted_list.sort()\n",
    "print(\"Now it is sorted:\", unsorted_list)\n",
    "\n"
   ]
  },
  {
   "cell_type": "markdown",
   "id": "c395196f-6ca5-44f3-9c17-a7ce7ddba8ee",
   "metadata": {},
   "source": [
    "|Data Science Tools|\n",
    "|GIT               |\n",
    "|visual studio code|\n",
    "|TensorFlow        |"
   ]
  },
  {
   "cell_type": "markdown",
   "id": "6e9838b8-cc9c-4b88-97eb-0d1753fd7b84",
   "metadata": {},
   "source": [
    "Arithmetic expression-\n",
    "\n",
    "result=(3*4)+5\n",
    "print(result)\n",
    "17"
   ]
  },
  {
   "cell_type": "code",
   "execution_count": 8,
   "id": "8254e209-c0ff-48bf-97fb-224d56218ac4",
   "metadata": {},
   "outputs": [
    {
     "name": "stdout",
     "output_type": "stream",
     "text": [
      "200 minutes is equalto 3.3333333333333335 hours\n"
     ]
    }
   ],
   "source": [
    "minutes=200\n",
    "hours=minutes/60\n",
    "print(f\"{minutes} minutes is equalto {hours} hours\")"
   ]
  },
  {
   "cell_type": "markdown",
   "id": "fa6145a7-3cf9-43d7-8357-10b7645a3fb7",
   "metadata": {},
   "source": [
    "Objectives on popular languages in data science\n",
    "1. Which language is primarily used for data analysis and machine learning in data science?\n",
    "A) Python\n",
    "B) R\n",
    "C) SQL\n",
    "D) Java\n",
    "2. Which language is widely used for statistical computing and data visualization?\n",
    "A) Python\n",
    "B) R\n",
    "C) MATLAB\n",
    "D) Julia\n",
    "3. Which language is known for its simplicity and readability, making it a popular choice for data science beginners?\n",
    "A) Python\n",
    "B) Java\n",
    "C) C++\n",
    "D) Ruby\n",
    "4. Which language is used for querying and managing large datasets in relational databases?\n",
    "A) SQL\n",
    "B) NoSQL\n",
    "C) Python\n",
    "D) R\n",
    "5. Which language is gaining popularity in data science due to its high-performance capabilities?\n",
    "A) Julia\n",
    "B) Python\n",
    "C) R\n",
    "D) MATLAB\n",
    "\n"
   ]
  },
  {
   "cell_type": "markdown",
   "id": "907eea98-25ca-42e7-a9fc-9925d8c985a6",
   "metadata": {},
   "source": [
    "Author-Abhisek Jason Chabungba "
   ]
  }
 ],
 "metadata": {
  "kernelspec": {
   "display_name": "Python 3 (ipykernel)",
   "language": "python",
   "name": "python3"
  },
  "language_info": {
   "codemirror_mode": {
    "name": "ipython",
    "version": 3
   },
   "file_extension": ".py",
   "mimetype": "text/x-python",
   "name": "python",
   "nbconvert_exporter": "python",
   "pygments_lexer": "ipython3",
   "version": "3.12.4"
  }
 },
 "nbformat": 4,
 "nbformat_minor": 5
}
